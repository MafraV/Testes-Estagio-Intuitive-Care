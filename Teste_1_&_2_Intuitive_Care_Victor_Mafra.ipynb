{
  "nbformat": 4,
  "nbformat_minor": 0,
  "metadata": {
    "colab": {
      "name": "Teste 1 & 2 - Intuitive Care - Victor Mafra",
      "provenance": [],
      "collapsed_sections": []
    },
    "kernelspec": {
      "name": "python3",
      "display_name": "Python 3"
    },
    "language_info": {
      "name": "python"
    }
  },
  "cells": [
    {
      "cell_type": "markdown",
      "source": [
        "#Testes de Nivelamento - Estágio Desenvolvimento de Software - Intuitive Care\n",
        "\n",
        "Author: Victor Mafra de Holanda Ferraz \\\\\n",
        "email: vmhf@ic.ufal.br \\\\\n",
        "links: [LinkedIn](https://www.linkedin.com/in/victor-mafra-de-holanda-ferraz-b7a813200/) [github](https://github.com/MafraV)"
      ],
      "metadata": {
        "id": "8a9Y8oi1MpQJ"
      }
    },
    {
      "cell_type": "markdown",
      "source": [
        "##Teste 1 - WebScraping"
      ],
      "metadata": {
        "id": "J8KeU01WNeGm"
      }
    },
    {
      "cell_type": "markdown",
      "source": [
        "###Imports"
      ],
      "metadata": {
        "id": "gfh56CfkN6-j"
      }
    },
    {
      "cell_type": "code",
      "execution_count": 17,
      "metadata": {
        "id": "gNd7y3zuMoDH"
      },
      "outputs": [],
      "source": [
        "import requests\n",
        "from bs4 import BeautifulSoup"
      ]
    },
    {
      "cell_type": "markdown",
      "source": [
        "###Functions Definition"
      ],
      "metadata": {
        "id": "1QgnCoO1N3fb"
      }
    },
    {
      "cell_type": "code",
      "source": [
        "#Function that finds a specific link in a html page using two sub-strings that are present in the target url as parameters\n",
        "def find_link(url, condition1, condition2):\n",
        "    read = requests.get(url) #Reads the url\n",
        "    html_content = read.content #Gets the content from the html page\n",
        "    soup = BeautifulSoup(html_content, \"html.parser\") #Creates a BeautifulSoup object with the html content\n",
        "    l = soup.find_all('a') #Finds all the <a> tags in the html page code\n",
        "    for link in l: #Goes through all the <a> tags found previously\n",
        "      new_link = link.get('href') #Gets only the link that is inside the current <a> tag\n",
        "      if (condition1 in new_link) and (condition2 in new_link): #Tests if the condition1 and condition2 sub-strings are present in the current link\n",
        "        return new_link #Returns the target url\n",
        "\n",
        "#Function that downloads a pdf file from a url page\n",
        "def download_pdf(url, path):\n",
        "    response = requests.get(url) #Reads the url\n",
        "    with open(path, 'wb') as f: #Open the PDF file\n",
        "      done = f.write(response.content) #Write the content of the PDF to the path\n",
        "      if done: print('PDF downloaded with success!') #If the PDF is successfully downloaded, prints a message to inform it\n",
        "      else: print('PDF download failed!') #Else, prints a message to inform that the download have failed"
      ],
      "metadata": {
        "id": "LLzYf0B_NvBw"
      },
      "execution_count": 18,
      "outputs": []
    },
    {
      "cell_type": "markdown",
      "source": [
        "###Main"
      ],
      "metadata": {
        "id": "Asi1UNVKN83_"
      }
    },
    {
      "cell_type": "code",
      "source": [
        "url = \"https://www.gov.br/ans/pt-br/assuntos/prestadores/padrao-para-troca-de-informacao-de-saude-suplementar-2013-tiss\" #url given in the task\n",
        "\n",
        "tiss_page_url = find_link(url, 'tiss', '2021') #Finds the link to the latest 'Padrão Tiss' page using 'tiss' and '2021' as parameters\n",
        "\n",
        "pdf_url = find_link(tiss_page_url, 'tiss', '.pdf') #Finds the link to the 'Componente Organizacional' PDF file using 'tiss' and '.pdf' aas parameters\n",
        "\n",
        "download_pdf(pdf_url, 'padrao-tiss_componente-organizacional_202111.pdf') #Downloads the PDF to the LatestPadraoTiss folder"
      ],
      "metadata": {
        "colab": {
          "base_uri": "https://localhost:8080/"
        },
        "id": "BjprfKEPN2mo",
        "outputId": "3b5101fa-9287-492d-a5bd-551eea86c7c0"
      },
      "execution_count": 19,
      "outputs": [
        {
          "output_type": "stream",
          "name": "stdout",
          "text": [
            "PDF downloaded with success!\n"
          ]
        }
      ]
    },
    {
      "cell_type": "markdown",
      "source": [
        "##Teste 2 - Data Transformation"
      ],
      "metadata": {
        "id": "GvVj-ZD8OMfP"
      }
    },
    {
      "cell_type": "markdown",
      "source": [
        "###Imports"
      ],
      "metadata": {
        "id": "UG1RAOztOQfM"
      }
    },
    {
      "cell_type": "code",
      "source": [
        "!pip install tabula-py"
      ],
      "metadata": {
        "colab": {
          "base_uri": "https://localhost:8080/"
        },
        "id": "pMgvPXJuObZ_",
        "outputId": "8de6479d-92fb-4047-c86e-85464bc3af07"
      },
      "execution_count": 7,
      "outputs": [
        {
          "output_type": "stream",
          "name": "stdout",
          "text": [
            "Collecting tabula-py\n",
            "  Downloading tabula_py-2.3.0-py3-none-any.whl (12.0 MB)\n",
            "\u001b[K     |████████████████████████████████| 12.0 MB 4.4 MB/s \n",
            "\u001b[?25hRequirement already satisfied: numpy in /usr/local/lib/python3.7/dist-packages (from tabula-py) (1.19.5)\n",
            "Collecting distro\n",
            "  Downloading distro-1.6.0-py2.py3-none-any.whl (19 kB)\n",
            "Requirement already satisfied: pandas>=0.25.3 in /usr/local/lib/python3.7/dist-packages (from tabula-py) (1.1.5)\n",
            "Requirement already satisfied: pytz>=2017.2 in /usr/local/lib/python3.7/dist-packages (from pandas>=0.25.3->tabula-py) (2018.9)\n",
            "Requirement already satisfied: python-dateutil>=2.7.3 in /usr/local/lib/python3.7/dist-packages (from pandas>=0.25.3->tabula-py) (2.8.2)\n",
            "Requirement already satisfied: six>=1.5 in /usr/local/lib/python3.7/dist-packages (from python-dateutil>=2.7.3->pandas>=0.25.3->tabula-py) (1.15.0)\n",
            "Installing collected packages: distro, tabula-py\n",
            "Successfully installed distro-1.6.0 tabula-py-2.3.0\n"
          ]
        }
      ]
    },
    {
      "cell_type": "code",
      "source": [
        "import pandas as pd\n",
        "from zipfile import ZipFile\n",
        "import tabula"
      ],
      "metadata": {
        "id": "duxI3de4OSCW"
      },
      "execution_count": 20,
      "outputs": []
    },
    {
      "cell_type": "markdown",
      "source": [
        "###Functions Definition"
      ],
      "metadata": {
        "id": "giXOqdAgOgJY"
      }
    },
    {
      "cell_type": "code",
      "source": [
        "#Function that builds a structured pandas DataFrame from a dictionary receiving the disctionary and the key to the data as parameters\n",
        "def build_table_from_dict(d,key):\n",
        "    code, desc = [], []\n",
        "\n",
        "    #Save each value from the discionary at two separated lists, that represents the two columns of the final DataFrame\n",
        "    for value in d[key].values():\n",
        "      splitted = value.split() #Split the value into two separeted strings, because the intire row came merged into a single string\n",
        "      code.append(splitted[0]) #Save the 'Código' value at the code list\n",
        "      desc.append(splitted[1]) #Save the 'Descrição da categoria' value at the disc list\n",
        "\n",
        "    final_d = {'Código': code, #Creates a structures disctionary with the separated lists\n",
        "               'Descrição da categoria': desc}\n",
        "\n",
        "    df = pd.DataFrame(final_d, columns=['Código', 'Descrição da categoria']) #Create the DataFrame from the structured dictionary\n",
        "\n",
        "    return df\n",
        "\n",
        "#Function that builds a structured pandas DataFrame from a list of DataFrame objects\n",
        "def build_table_from_tables(tables):\n",
        "    code, desc = [], []\n",
        "\n",
        "    d = tables[0].to_dict() #Transform the first table of the list into a dictionary\n",
        "\n",
        "    #Save each value from the two discionaries at two separated lists, that represents the two columns of the final DataFrame\n",
        "    for (value1,value2) in zip(d['Tabela de Categoria do Padrão TISS'].values(),d['Unnamed: 0'].values()):\n",
        "        desc.append(value1) #Save the 'Código' value at the code list\n",
        "        code.append(value2) #Save the 'Descrição da categoria' value at the disc list\n",
        "        \n",
        "    del desc[0] #Remove the header of the table from the desc list\n",
        "    del code[0] #Remove the header of the table from the code list\n",
        "\n",
        "    #Save the values from all the remaining tables into the two lists\n",
        "    for table in tables[1:]:\n",
        "      d = table.to_dict() #Transform the table into a dictionary\n",
        "      header = list(d.keys()) #Get the header of the table\n",
        "      code.append(int(header[0])) #Save the header to the two lists because the 'Quadro 31' goes through many pages, \n",
        "      desc.append(header[1])      #so each page was considered a separated table and the first row was considered the header\n",
        "      #Save each value from the first dictionary to the code list\n",
        "      for value in table[header[0]]:\n",
        "        code.append(value)\n",
        "      #Save each value from the second dictionary to the disc list\n",
        "      for value in table[header[1]]:\n",
        "        if '\\r' in value: #Checks if there are line break at the string\n",
        "          value = value.replace('\\r', ' ') #Replace the line brack special characters to a blank space\n",
        "        desc.append(value)\n",
        "\n",
        "    final_d = {'Código': code, #Creates a structures disctionary with the separated lists\n",
        "               'Descrição da categoria': desc}\n",
        "\n",
        "    df = pd.DataFrame(final_d,columns=['Código', 'Descrição da categoria']) #Create the DataFrame from the structured dictionary\n",
        "\n",
        "    return df\n",
        "\n",
        "#Function that saves the pandas DataFrame into a CSV file at the desired path\n",
        "def save_csv(df, path):\n",
        "    df.to_csv(path)\n",
        "    print('CSV successfully saved at path: '+path)\n",
        "\n",
        "#Function that compress the CSVs files into a ZIP file at the desired path\n",
        "def zip_csvs(zip_path, csv_path):\n",
        "    zip = ZipFile(zip_path,'w')\n",
        "    for path in csv_path:\n",
        "      zip.write(path)\n",
        "    zip.close()\n",
        "    print('CSVs successfully zipped at path: '+zip_path)"
      ],
      "metadata": {
        "id": "mEWwtU75OjfD"
      },
      "execution_count": 21,
      "outputs": []
    },
    {
      "cell_type": "markdown",
      "source": [
        "###Main"
      ],
      "metadata": {
        "id": "QUnNRl-KOu5n"
      }
    },
    {
      "cell_type": "code",
      "source": [
        "pdf_file = \"padrao-tiss_componente-organizacional_202111.pdf\" #PDF file path\n",
        "\n",
        "#Reads the tables that are in the pages 114 to 120, where 'Quadro 30' is in page 114, \n",
        "#'Quadro 31' goes through page 115 to page 120 and 'Quadro 32' is in page 120 \n",
        "tables = tabula.read_pdf(pdf_file, pages=(114,115,116,117,118,119,120), multiple_tables=True) \n",
        "\n",
        "d_30 = tables[0].to_dict() #Transforms the first table of the list into a dictionary\n",
        "del d_30['Tabela de Tipo do Demandante'][0] #Removes the header from the dictionary\n",
        "\n",
        "d_32 = tables[-1].to_dict() #Transforms the last table of the list into a dictionary\n",
        "del d_32['Tabela de Tipo de Solicitação'][0] #Removes the first header from the dictionary\n",
        "del d_32['Tabela de Tipo de Solicitação'][1] #Removes the second header from the dictionary\n",
        "del d_32['Tabela de Tipo de Solicitação'][4] #Removes a None value from the dictionary\n",
        "\n",
        "df_30 = build_table_from_dict(d_30,'Tabela de Tipo do Demandante') #Calls the function that build the table of 'Quadro 30'\n",
        "df_31 = build_table_from_tables(tables[1:-1]) #Calls the function that build the table of 'Quadro 31'\n",
        "df_32 = build_table_from_dict(d_32,'Tabela de Tipo de Solicitação') #Calls the function that build the table of 'Quadro 32'"
      ],
      "metadata": {
        "colab": {
          "base_uri": "https://localhost:8080/"
        },
        "id": "jCuKCWEOOuXj",
        "outputId": "9420ffdb-2cf9-4048-fc33-fc9a894b4306"
      },
      "execution_count": 22,
      "outputs": [
        {
          "output_type": "stream",
          "name": "stderr",
          "text": [
            "Got stderr: Dec 09, 2021 10:10:02 PM org.apache.pdfbox.pdmodel.font.PDTrueTypeFont <init>\n",
            "WARNING: Using fallback font 'LiberationSans-Bold' for 'Helvetica,Bold'\n",
            "Dec 09, 2021 10:10:04 PM org.apache.pdfbox.pdmodel.font.PDTrueTypeFont <init>\n",
            "WARNING: Using fallback font 'LiberationSans-Bold' for 'Helvetica,Bold'\n",
            "Dec 09, 2021 10:10:05 PM org.apache.pdfbox.pdmodel.font.PDTrueTypeFont <init>\n",
            "WARNING: Using fallback font 'LiberationSans-Bold' for 'Helvetica,Bold'\n",
            "Dec 09, 2021 10:10:06 PM org.apache.pdfbox.pdmodel.font.PDTrueTypeFont <init>\n",
            "WARNING: Using fallback font 'LiberationSans-Bold' for 'Helvetica,Bold'\n",
            "\n"
          ]
        }
      ]
    },
    {
      "cell_type": "code",
      "source": [
        "display(df_30)"
      ],
      "metadata": {
        "colab": {
          "base_uri": "https://localhost:8080/",
          "height": 206
        },
        "id": "C13qZFMCPYAa",
        "outputId": "c772a940-ae9a-4b78-e096-0c16bb0617d4"
      },
      "execution_count": 23,
      "outputs": [
        {
          "output_type": "display_data",
          "data": {
            "text/html": [
              "<div>\n",
              "<style scoped>\n",
              "    .dataframe tbody tr th:only-of-type {\n",
              "        vertical-align: middle;\n",
              "    }\n",
              "\n",
              "    .dataframe tbody tr th {\n",
              "        vertical-align: top;\n",
              "    }\n",
              "\n",
              "    .dataframe thead th {\n",
              "        text-align: right;\n",
              "    }\n",
              "</style>\n",
              "<table border=\"1\" class=\"dataframe\">\n",
              "  <thead>\n",
              "    <tr style=\"text-align: right;\">\n",
              "      <th></th>\n",
              "      <th>Código</th>\n",
              "      <th>Descrição da categoria</th>\n",
              "    </tr>\n",
              "  </thead>\n",
              "  <tbody>\n",
              "    <tr>\n",
              "      <th>0</th>\n",
              "      <td>1</td>\n",
              "      <td>Operadora</td>\n",
              "    </tr>\n",
              "    <tr>\n",
              "      <th>1</th>\n",
              "      <td>2</td>\n",
              "      <td>Prestador</td>\n",
              "    </tr>\n",
              "    <tr>\n",
              "      <th>2</th>\n",
              "      <td>3</td>\n",
              "      <td>Consumidor</td>\n",
              "    </tr>\n",
              "    <tr>\n",
              "      <th>3</th>\n",
              "      <td>4</td>\n",
              "      <td>Gestor</td>\n",
              "    </tr>\n",
              "    <tr>\n",
              "      <th>4</th>\n",
              "      <td>5</td>\n",
              "      <td>ANS</td>\n",
              "    </tr>\n",
              "  </tbody>\n",
              "</table>\n",
              "</div>"
            ],
            "text/plain": [
              "  Código Descrição da categoria\n",
              "0      1              Operadora\n",
              "1      2              Prestador\n",
              "2      3             Consumidor\n",
              "3      4                 Gestor\n",
              "4      5                    ANS"
            ]
          },
          "metadata": {}
        }
      ]
    },
    {
      "cell_type": "code",
      "source": [
        "display(df_31)"
      ],
      "metadata": {
        "colab": {
          "base_uri": "https://localhost:8080/",
          "height": 424
        },
        "id": "O0rJIeDxPcI7",
        "outputId": "69e32fae-ac3e-4560-f3fd-ca2fdef13aab"
      },
      "execution_count": 24,
      "outputs": [
        {
          "output_type": "display_data",
          "data": {
            "text/html": [
              "<div>\n",
              "<style scoped>\n",
              "    .dataframe tbody tr th:only-of-type {\n",
              "        vertical-align: middle;\n",
              "    }\n",
              "\n",
              "    .dataframe tbody tr th {\n",
              "        vertical-align: top;\n",
              "    }\n",
              "\n",
              "    .dataframe thead th {\n",
              "        text-align: right;\n",
              "    }\n",
              "</style>\n",
              "<table border=\"1\" class=\"dataframe\">\n",
              "  <thead>\n",
              "    <tr style=\"text-align: right;\">\n",
              "      <th></th>\n",
              "      <th>Código</th>\n",
              "      <th>Descrição da categoria</th>\n",
              "    </tr>\n",
              "  </thead>\n",
              "  <tbody>\n",
              "    <tr>\n",
              "      <th>0</th>\n",
              "      <td>1</td>\n",
              "      <td>Componente Organizacional</td>\n",
              "    </tr>\n",
              "    <tr>\n",
              "      <th>1</th>\n",
              "      <td>2</td>\n",
              "      <td>Componente de Conteúdo e Estrutura</td>\n",
              "    </tr>\n",
              "    <tr>\n",
              "      <th>2</th>\n",
              "      <td>3</td>\n",
              "      <td>Componente de Representação de Conceitos em Saúde</td>\n",
              "    </tr>\n",
              "    <tr>\n",
              "      <th>3</th>\n",
              "      <td>4</td>\n",
              "      <td>Componente de Comunicação</td>\n",
              "    </tr>\n",
              "    <tr>\n",
              "      <th>4</th>\n",
              "      <td>5</td>\n",
              "      <td>Componente de Segurança e Privacidade</td>\n",
              "    </tr>\n",
              "    <tr>\n",
              "      <th>...</th>\n",
              "      <td>...</td>\n",
              "      <td>...</td>\n",
              "    </tr>\n",
              "    <tr>\n",
              "      <th>133</th>\n",
              "      <td>164</td>\n",
              "      <td>Guia de resumo de internação</td>\n",
              "    </tr>\n",
              "    <tr>\n",
              "      <th>134</th>\n",
              "      <td>165</td>\n",
              "      <td>Guia de serviços profissionais/serviço auxilia...</td>\n",
              "    </tr>\n",
              "    <tr>\n",
              "      <th>135</th>\n",
              "      <td>166</td>\n",
              "      <td>Guia de solicitação de internação</td>\n",
              "    </tr>\n",
              "    <tr>\n",
              "      <th>136</th>\n",
              "      <td>167</td>\n",
              "      <td>Guia de solicitação de prorrogação de internaç...</td>\n",
              "    </tr>\n",
              "    <tr>\n",
              "      <th>137</th>\n",
              "      <td>168</td>\n",
              "      <td>Guia de tratamento odontológico</td>\n",
              "    </tr>\n",
              "  </tbody>\n",
              "</table>\n",
              "<p>138 rows × 2 columns</p>\n",
              "</div>"
            ],
            "text/plain": [
              "    Código                             Descrição da categoria\n",
              "0        1                          Componente Organizacional\n",
              "1        2                 Componente de Conteúdo e Estrutura\n",
              "2        3  Componente de Representação de Conceitos em Saúde\n",
              "3        4                          Componente de Comunicação\n",
              "4        5              Componente de Segurança e Privacidade\n",
              "..     ...                                                ...\n",
              "133    164                       Guia de resumo de internação\n",
              "134    165  Guia de serviços profissionais/serviço auxilia...\n",
              "135    166                  Guia de solicitação de internação\n",
              "136    167  Guia de solicitação de prorrogação de internaç...\n",
              "137    168                    Guia de tratamento odontológico\n",
              "\n",
              "[138 rows x 2 columns]"
            ]
          },
          "metadata": {}
        }
      ]
    },
    {
      "cell_type": "code",
      "source": [
        "display(df_32)"
      ],
      "metadata": {
        "colab": {
          "base_uri": "https://localhost:8080/",
          "height": 143
        },
        "id": "Musjo7hSPeSY",
        "outputId": "1c924de6-ed84-4ef4-df6c-2bd16579eb62"
      },
      "execution_count": 25,
      "outputs": [
        {
          "output_type": "display_data",
          "data": {
            "text/html": [
              "<div>\n",
              "<style scoped>\n",
              "    .dataframe tbody tr th:only-of-type {\n",
              "        vertical-align: middle;\n",
              "    }\n",
              "\n",
              "    .dataframe tbody tr th {\n",
              "        vertical-align: top;\n",
              "    }\n",
              "\n",
              "    .dataframe thead th {\n",
              "        text-align: right;\n",
              "    }\n",
              "</style>\n",
              "<table border=\"1\" class=\"dataframe\">\n",
              "  <thead>\n",
              "    <tr style=\"text-align: right;\">\n",
              "      <th></th>\n",
              "      <th>Código</th>\n",
              "      <th>Descrição da categoria</th>\n",
              "    </tr>\n",
              "  </thead>\n",
              "  <tbody>\n",
              "    <tr>\n",
              "      <th>0</th>\n",
              "      <td>1</td>\n",
              "      <td>Alteração</td>\n",
              "    </tr>\n",
              "    <tr>\n",
              "      <th>1</th>\n",
              "      <td>2</td>\n",
              "      <td>Inclusão</td>\n",
              "    </tr>\n",
              "    <tr>\n",
              "      <th>2</th>\n",
              "      <td>3</td>\n",
              "      <td>Exclusão</td>\n",
              "    </tr>\n",
              "  </tbody>\n",
              "</table>\n",
              "</div>"
            ],
            "text/plain": [
              "  Código Descrição da categoria\n",
              "0      1              Alteração\n",
              "1      2               Inclusão\n",
              "2      3               Exclusão"
            ]
          },
          "metadata": {}
        }
      ]
    },
    {
      "cell_type": "code",
      "source": [
        "dfs=[df_30,df_31,df_32] #Creates a list with all the returned DataFrames\n",
        "csv_paths=['Tabela_de_tipo_do_Demandante.csv','Tabela_de_categoria_do_Padrão_TISS.csv','Tabela_de_tipo_de_Solicitação.csv'] #Creates a list with all the csv desired paths\n",
        "\n",
        "#Save each DataFrame to its related path\n",
        "for (df,path) in zip(dfs,csv_paths):\n",
        "    save_csv(df,path) #Call the function that saves the DataFrame as a CSV file at the desired path\n",
        "\n",
        "zip_csvs('Teste_{Victor Mafra de Holanda Ferraz}.zip', csv_paths) #Calls the function that zip the CSVs files to a desired path"
      ],
      "metadata": {
        "colab": {
          "base_uri": "https://localhost:8080/"
        },
        "id": "OftpKGN6PQok",
        "outputId": "bbd9fa78-1ce6-409a-eff7-68f86488e8fe"
      },
      "execution_count": 26,
      "outputs": [
        {
          "output_type": "stream",
          "name": "stdout",
          "text": [
            "CSV successfully saved at path: Tabela_de_tipo_do_Demandante.csv\n",
            "CSV successfully saved at path: Tabela_de_categoria_do_Padrão_TISS.csv\n",
            "CSV successfully saved at path: Tabela_de_tipo_de_Solicitação.csv\n",
            "CSVs successfully zipped at path: Teste_{Victor Mafra de Holanda Ferraz}.zip\n"
          ]
        }
      ]
    }
  ]
}